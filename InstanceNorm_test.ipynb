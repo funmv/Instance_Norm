{
 "cells": [
  {
   "cell_type": "markdown",
   "id": "fdc68ad3",
   "metadata": {},
   "source": [
    "## RevIN연산 사용법\n",
    "- Instance Normalization"
   ]
  },
  {
   "cell_type": "code",
   "execution_count": 47,
   "id": "2d418f3c",
   "metadata": {},
   "outputs": [],
   "source": [
    "import torch\n",
    "import torch.nn as nn\n",
    "from revin.revin_torch import RevIN\n",
    "\n",
    "import pdb"
   ]
  },
  {
   "cell_type": "code",
   "execution_count": 25,
   "id": "908b9899",
   "metadata": {},
   "outputs": [
    {
     "data": {
      "text/plain": [
       "torch.Size([4, 3, 2])"
      ]
     },
     "execution_count": 25,
     "metadata": {},
     "output_type": "execute_result"
    }
   ],
   "source": [
    "x = torch.reshape(torch.arange(0, 24), shape=(4, 3, 2))/24\n",
    "x.shape"
   ]
  },
  {
   "cell_type": "code",
   "execution_count": 51,
   "id": "beae37f8",
   "metadata": {},
   "outputs": [],
   "source": [
    "class MyRevIN(nn.Module):\n",
    "    def __init__(self, num_features: int, eps=1e-5, affine=True):\n",
    "        \"\"\"Reversible Instance Normalization for Accurate Time-Series Forecasting\n",
    "           against Distribution Shift, ICLR2021.\n",
    "\n",
    "    Parameters\n",
    "    ----------\n",
    "    num_features: int, the number of features or channels.\n",
    "    eps: float, a value added for numerical stability, default 1e-5.\n",
    "    affine: bool, if True(default), RevIN has learnable affine parameters.\n",
    "        \"\"\"\n",
    "        super().__init__()\n",
    "        self.num_features = num_features\n",
    "        self.eps = eps\n",
    "        self.affine = affine\n",
    "        if self.affine:\n",
    "            self._init_params()\n",
    "\n",
    "    def forward(self, x, mode:str):\n",
    "        if mode == 'norm':\n",
    "            self._get_statistics(x)\n",
    "            x = self._normalize(x)\n",
    "        elif mode == 'denorm':\n",
    "            x = self._denormalize(x)\n",
    "        else:\n",
    "            raise NotImplementedError('Only modes norm and denorm are supported.')\n",
    "        return x\n",
    "\n",
    "    def _init_params(self):\n",
    "        self.affine_weight = nn.Parameter(torch.ones(self.num_features))\n",
    "        self.affine_bias = nn.Parameter(torch.zeros(self.num_features))\n",
    "\n",
    "    def _get_statistics(self, x):\n",
    "        # pdb.set_trace()\n",
    "        dim2reduce = tuple(range(1, x.ndim - 1))\n",
    "        # detach()는 mean, stdev는 학습할 인자가 아니라는 말(연산그래프에서 제외, Freeze)\n",
    "        self.mean = torch.mean(x, dim=dim2reduce, keepdim=True).detach()\n",
    "        self.stdev = torch.sqrt(torch.var(x, dim=dim2reduce, keepdim=True, unbiased=False) + self.eps).detach()\n",
    "        print('Mean: ',self.mean)\n",
    "        print('Std: ', self.stdev)\n",
    "        print('Alpha: ', self.affine_weight)\n",
    "        print('beta: ', self.affine_bias)\n",
    "        print('\\n')\n",
    "\n",
    "    def _normalize(self, x):\n",
    "        x = x - self.mean\n",
    "        x = x / self.stdev\n",
    "        if self.affine:\n",
    "            x = x * self.affine_weight\n",
    "            x = x + self.affine_bias\n",
    "        return x\n",
    "\n",
    "    def _denormalize(self, x):\n",
    "        if self.affine:\n",
    "            x = x - self.affine_bias\n",
    "            x = x / (self.affine_weight + self.eps*self.eps)\n",
    "        x = x * self.stdev\n",
    "        x = x + self.mean\n",
    "        return x"
   ]
  },
  {
   "cell_type": "markdown",
   "id": "7e847d5a",
   "metadata": {},
   "source": [
    "### Instance Normalization 테스트"
   ]
  },
  {
   "cell_type": "code",
   "execution_count": 52,
   "id": "15732c5d",
   "metadata": {},
   "outputs": [
    {
     "name": "stdout",
     "output_type": "stream",
     "text": [
      "Mean:  tensor([[[0.1667, 0.2500]],\n",
      "\n",
      "        [[0.6667, 0.7500]]])\n",
      "Std:  tensor([[[0.1361, 0.1361]],\n",
      "\n",
      "        [[0.1361, 0.1361]]])\n",
      "Alpha:  Parameter containing:\n",
      "tensor([1., 1.], requires_grad=True)\n",
      "beta:  Parameter containing:\n",
      "tensor([0., 0.], requires_grad=True)\n",
      "\n",
      "\n",
      "tensor([[[0.0000, 0.0833],\n",
      "         [0.1667, 0.2500],\n",
      "         [0.3333, 0.4167]],\n",
      "\n",
      "        [[0.5000, 0.5833],\n",
      "         [0.6667, 0.7500],\n",
      "         [0.8333, 0.9167]]])\n",
      "tensor([[[-1.2244, -1.2244],\n",
      "         [ 0.0000,  0.0000],\n",
      "         [ 1.2244,  1.2244]],\n",
      "\n",
      "        [[-1.2244, -1.2244],\n",
      "         [ 0.0000,  0.0000],\n",
      "         [ 1.2244,  1.2244]]], grad_fn=<AddBackward0>)\n",
      "tensor([[[0.0000, 0.0833],\n",
      "         [0.1667, 0.2500],\n",
      "         [0.3333, 0.4167]],\n",
      "\n",
      "        [[0.5000, 0.5833],\n",
      "         [0.6667, 0.7500],\n",
      "         [0.8333, 0.9167]]], grad_fn=<AddBackward0>)\n"
     ]
    }
   ],
   "source": [
    "# bs=2, 길이=3, 특징수=2라 가정하면,\n",
    "# 이 때, instance Norm은 각 샘플별, 각 특징별로 길이방향의 값을 모아서\n",
    "# 평균과 분산을 구해 정규화함\n",
    "# (예) 첫 샘플은 [[0.0000, 0.0833], [0.1667, 0.2500], [0.3333, 0.4167]]인데, \n",
    "#      첫번째 특징에 대해 길이 방향으로 값 3개를 모으면,\n",
    "#      [0.0, 0.1667, 0.333]이고, 평균이 0.1667, std가 0.1361임.\n",
    "#      따라서 (0.0-0.1667)/0.1361=-1.2244, (0.1667-0.1667)/0.1361=0, (0.3333-0.1667)/0.1361=1.2240\n",
    "#      여기에 나중에 학습할 스케일 alpha, shift beta값을 정의해 놓음\n",
    "x = torch.reshape(torch.arange(0, 12), shape=(2, 3, 2))/12\n",
    "\n",
    "\n",
    "layer = MyRevIN(2)\n",
    "y = layer(x, mode='norm')\n",
    "z = layer(y, mode='denorm')\n",
    "\n",
    "print(x)\n",
    "print(y)\n",
    "print(z)"
   ]
  },
  {
   "cell_type": "code",
   "execution_count": 28,
   "id": "edc24b6f",
   "metadata": {},
   "outputs": [
    {
     "data": {
      "text/plain": [
       "RevIN()"
      ]
     },
     "execution_count": 28,
     "metadata": {},
     "output_type": "execute_result"
    }
   ],
   "source": [
    "revinlayer = RevIN(2)\n",
    "revinlayer"
   ]
  },
  {
   "cell_type": "markdown",
   "id": "788b1f9b",
   "metadata": {},
   "source": [
    "### Net에 넣어서 사용할 때"
   ]
  },
  {
   "cell_type": "code",
   "execution_count": 31,
   "id": "d24bc2d4",
   "metadata": {},
   "outputs": [],
   "source": [
    "class Net(nn.Module):\n",
    "    def __init__(self):\n",
    "        super(Net, self).__init__()\n",
    "        self.revinlayer = RevIN(num_features=2)\n",
    "        self.conv1d = nn.Conv1d(in_channels=2, out_channels=2, kernel_size=1)\n",
    "\n",
    "    def forward(self, x):\n",
    "        x = self.revinlayer(x, mode='norm')\n",
    "        #pdb.set_trace()\n",
    "        x = self.conv1d(x)\n",
    "        x = nn.ReLU(x)\n",
    "        x = self.revinlayer(x, mode='denorm')\n",
    "        return x\n",
    "    \n",
    "    \n",
    "model = Net()"
   ]
  },
  {
   "cell_type": "code",
   "execution_count": 33,
   "id": "08fa0541",
   "metadata": {},
   "outputs": [],
   "source": [
    "#res = model(x)\n",
    "#res.shape"
   ]
  },
  {
   "cell_type": "code",
   "execution_count": null,
   "id": "b46c2121",
   "metadata": {},
   "outputs": [],
   "source": [
    "x.shape"
   ]
  }
 ],
 "metadata": {
  "kernelspec": {
   "display_name": "Python 3 (ipykernel)",
   "language": "python",
   "name": "python3"
  },
  "language_info": {
   "codemirror_mode": {
    "name": "ipython",
    "version": 3
   },
   "file_extension": ".py",
   "mimetype": "text/x-python",
   "name": "python",
   "nbconvert_exporter": "python",
   "pygments_lexer": "ipython3",
   "version": "3.9.15"
  },
  "varInspector": {
   "cols": {
    "lenName": 16,
    "lenType": 16,
    "lenVar": 40
   },
   "kernels_config": {
    "python": {
     "delete_cmd_postfix": "",
     "delete_cmd_prefix": "del ",
     "library": "var_list.py",
     "varRefreshCmd": "print(var_dic_list())"
    },
    "r": {
     "delete_cmd_postfix": ") ",
     "delete_cmd_prefix": "rm(",
     "library": "var_list.r",
     "varRefreshCmd": "cat(var_dic_list()) "
    }
   },
   "types_to_exclude": [
    "module",
    "function",
    "builtin_function_or_method",
    "instance",
    "_Feature"
   ],
   "window_display": false
  }
 },
 "nbformat": 4,
 "nbformat_minor": 5
}
